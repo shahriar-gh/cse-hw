{
  "nbformat": 4,
  "nbformat_minor": 0,
  "metadata": {
    "colab": {
      "provenance": []
    },
    "kernelspec": {
      "name": "python3",
      "display_name": "Python 3"
    },
    "language_info": {
      "name": "python"
    }
  },
  "cells": [
    {
      "cell_type": "code",
      "execution_count": null,
      "metadata": {
        "id": "OxqeK28Ldk9R"
      },
      "outputs": [],
      "source": [
        "D=int(input())\n",
        "ano(s)==D//365\n",
        "D%=365\n",
        "mes(es)==D//30\n",
        "dia(s)==D//30\n",
        "print(f\"{ano(s)} ano(s)\")\n",
        "print(f\"{mes(es)} mes(es)\")\n",
        "print(f\"{dia(s)} dia(s)\")"
      ]
    }
  ]
}